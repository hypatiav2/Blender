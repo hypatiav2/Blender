{
  "nbformat": 4,
  "nbformat_minor": 0,
  "metadata": {
    "colab": {
      "provenance": []
    },
    "kernelspec": {
      "name": "python3",
      "display_name": "Python 3"
    },
    "language_info": {
      "name": "python"
    },
    "accelerator": "GPU",
    "gpuClass": "standard"
  },
  "cells": [
    {
      "cell_type": "code",
      "metadata": {
        "id": "ldykR0fMftHt"
      },
      "source": [
        "#Download Blender from Blender Repository. \n",
        "#Other Versions are here: https://download.blender.org/release/\n",
        "#=====================================\n",
        "#Stable 3.4\n",
        "!wget https://download.blender.org/release/Blender3.4/blender-3.4.0-linux-x64.tar.xz\n",
        "\n",
        "#Experimental Cycles-x\n",
        "#!wget -c https://builder.blender.org/download/experimental/blender-3.0.0-alpha+cycles-x.2ee513621513-linux.x86_64-release.tar.xz\n",
        "\n",
        "#Unzip Blender \n",
        "#=====================================\n",
        "!tar xf blender-3.4.0-linux-x64.tar.xz\n",
        "\n",
        "#Cycles-x\n",
        "#!tar xf blender-3.ø.ø-a1pha+cyc1es-x.2ee513621513-1inux.x86 64-release.tar.xz\n"
      ],
      "execution_count": null,
      "outputs": []
    },
    {
      "cell_type": "code",
      "metadata": {
        "id": "ANYFn5tFH_PE"
      },
      "source": [
        "#Move Blender zip file to Google Drive\n",
        "\n",
        "#Copy Blender Zip File to Google Drive\n",
        "#=====================================\n",
        "#!cp /content/blender-2.93.5-linux-x64.tar.xz /content/drive/MyDrive/Blender/blender-2.93.5-linux-x64.tar.xz\n",
        "\n",
        "#Copy Blender Zip File from Google Drive\n",
        "#=====================================\n",
        "#!cp /content/drive/MyDrive/Blender/blender-2.93.5-linux-x64.tar.xz /content/blender-2.93.5-linux-x64.tar.xz"
      ],
      "execution_count": null,
      "outputs": []
    },
    {
      "cell_type": "code",
      "metadata": {
        "id": "h_E1kl9W4iV8",
        "colab": {
          "base_uri": "https://localhost:8080/"
        },
        "outputId": "16ce96be-0bbc-4a2c-a1f9-8bdfec0891f4"
      },
      "source": [
        "#Connect Google Drive to Google Colab\n",
        "#=====================================\n",
        "from google.colab import drive\n",
        "drive.mount('/content/drive')"
      ],
      "execution_count": null,
      "outputs": [
        {
          "output_type": "stream",
          "name": "stdout",
          "text": [
            "Mounted at /content/drive\n"
          ]
        }
      ]
    },
    {
      "cell_type": "code",
      "metadata": {
        "id": "AYLt4dk18KPS"
      },
      "source": [
        "#Path of Blender File to be Rendered \n",
        "#===========================\n",
        "name = \"diamond\"\n",
        "filename = '/content/drive/MyDrive/BlenderRenders/' + name + '.blend'"
      ],
      "execution_count": null,
      "outputs": []
    },
    {
      "cell_type": "code",
      "metadata": {
        "id": "_p77a65khTRB",
        "collapsed": true,
        "colab": {
          "base_uri": "https://localhost:8080/"
        },
        "outputId": "1bfd27ce-cdbd-44cd-e02a-41a7de614eaa"
      },
      "source": [
        "#Render Single Frame: Change -f 1 to -f 100 to render frame 100 for example\n",
        "#===========================================================================\n",
        "#!./blender-3.4.0-linux-x64/blender -b $filename -noaudio -E 'CYCLES' --debug-all -o \"/content/drive/MyDrive/Blender\" -f 1 -F 'PNG' -- --cycles-device CUDA\n",
        "\n",
        "#Render Single Frame using OPTIX, if GPU supports it, otherwise use CUDA. \n",
        "#===========================================================================\n",
        "#!./blender-3.4.0-linux-x64/blender -b $filename -noaudio -E 'CYCLES' -o \"/content/drive/MyDrive/Blender\" -f 1 -F 'PNG' -- --cycles-device OPTIX\n",
        "\n",
        "#Render Animation: -s 1 and -e 250 starting and end frames of animation, -a means render animation.\n",
        "#===========================================================================\n",
        "!./blender-3.4.0-linux-x64/blender -b $filename -noaudio -E 'CYCLES' -o \"/content/drive/MyDrive/BlenderRenders/temp/\" -s 2 -e 12 -a -- --cycles-device CUDA\n"
      ],
      "execution_count": null,
    },
    {
      "cell_type": "code",
      "metadata": {
        "id": "UcXH9y2fG0Ub"
      },
      "source": [
        "#Check NVidia GPU Status\n",
        "#=================================================================\n",
        "!nvidia-smi"
      ],
      "execution_count": null,
      "outputs": []
    },
    {
      "cell_type": "code",
      "source": [
        "#Convert .png files in output folder to .mp4 video with OpenCV\n",
        "#===========================================================================\n",
        "\n",
        "import cv2\n",
        "import os\n",
        "\n",
        "image_folder = '/content/drive/MyDrive/BlenderRenders/temp'\n",
        "video_name = '/content/drive/MyDrive/BlenderRenders/' + name + 'video.mp4'\n",
        "\n",
        "images = [img for img in os.listdir(image_folder) if img.endswith(\".png\")]\n",
        "images.sort()\n",
        "\n",
        "frame = cv2.imread(os.path.join(image_folder, images[0]))\n",
        "height, width, layers = frame.shape\n",
        "\n",
        "fourcc = cv2.VideoWriter_fourcc(*'mp4v')\n",
        "video = cv2.VideoWriter(video_name, fourcc, 12, (width,height))\n",
        "\n",
        "for i in range(8):\n",
        "  for image in images:\n",
        "      video.write(cv2.imread(os.path.join(image_folder, image)))\n",
        "\n",
        "cv2.destroyAllWindows()\n",
        "video.release()"
      ],
      "metadata": {
        "id": "NZqle_u3Tujh"
      },
      "execution_count": null,
      "outputs": []
    }
  ]
}
